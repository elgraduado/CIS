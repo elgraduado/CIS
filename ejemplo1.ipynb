{
  "nbformat": 4,
  "nbformat_minor": 0,
  "metadata": {
    "colab": {
      "name": "Untitled1.ipynb",
      "provenance": [],
      "toc_visible": true,
      "include_colab_link": true
    },
    "kernelspec": {
      "name": "python3",
      "display_name": "Python 3"
    }
  },
  "cells": [
    {
      "cell_type": "markdown",
      "metadata": {
        "id": "view-in-github",
        "colab_type": "text"
      },
      "source": [
        "<a href=\"https://colab.research.google.com/github/elgraduado/CIS/blob/master/ejemplo1.ipynb\" target=\"_parent\"><img src=\"https://colab.research.google.com/assets/colab-badge.svg\" alt=\"Open In Colab\"/></a>"
      ]
    },
    {
      "cell_type": "markdown",
      "metadata": {
        "id": "-J3qDXeFwvSb",
        "colab_type": "text"
      },
      "source": [
        "# Regresión lineal simple"
      ]
    },
    {
      "cell_type": "code",
      "metadata": {
        "id": "Vsqlhqgww1BG",
        "colab_type": "code",
        "colab": {}
      },
      "source": [
        "import pandas as pd\n",
        "import numpy as np\n",
        "import gspread\n",
        "import matplotlib.pyplot as plt\n",
        "from oauth2client.client import GoogleCredentials \n",
        "from google.colab import auth\n",
        "# Autoriza BETA\n",
        "auth.authenticate_user()\n",
        "gc = gspread.authorize (GoogleCredentials.get_application_default())"
      ],
      "execution_count": 0,
      "outputs": []
    },
    {
      "cell_type": "markdown",
      "metadata": {
        "id": "2xAoqlB_02Do",
        "colab_type": "text"
      },
      "source": [
        "### leemos datos"
      ]
    },
    {
      "cell_type": "code",
      "metadata": {
        "id": "pPV-lfSfNiow",
        "colab_type": "code",
        "outputId": "28022856-8727-4d1a-e96a-2730ebf7fe20",
        "colab": {
          "base_uri": "https://localhost:8080/",
          "height": 357
        }
      },
      "source": [
        "ls"
      ],
      "execution_count": 0,
      "outputs": [
        {
          "output_type": "stream",
          "text": [
            " 1LabSeñales.gdoc\n",
            "'4TO LAB INTEGRAL (1).gdoc'\n",
            "'4TO LAB INTEGRAL.docx'\n",
            "'4TO LAB INTEGRAL.gdoc'\n",
            "'Cálculo, Conceptos y Contextos 4ta Edicion.pdf'\n",
            " \u001b[0m\u001b[01;36mCIS\u001b[0m@\n",
            " \u001b[01;34mClassroom\u001b[0m/\n",
            "\u001b[01;34m'Colab Notebooks'\u001b[0m/\n",
            " \u001b[01;34mDibujo\u001b[0m/\n",
            " \u001b[01;34mFísica\u001b[0m/\n",
            "'Francisco de Asís el santo que quiso ser hombre.pdf'\n",
            " \u001b[01;34mHorario\u001b[0m/\n",
            "'INFORME LISTO YA TODO ME VALE Y QUIERO DORMIR.gdoc'\n",
            "\u001b[01;34m'Inglés intermedio II'\u001b[0m/\n",
            "'laboratorio digitales.gsheet'\n",
            " lasclavesdeargumentaciona-weston.pdf\n",
            " \u001b[01;34mMateriales\u001b[0m/\n",
            "'Mecánica para ingenieros, Dinamica - Meriam.pdf'\n",
            "'Proyecto materiales Mas real q mis tetas.docx'\n",
            " TAMAYOMANUEL.m\n"
          ],
          "name": "stdout"
        }
      ]
    },
    {
      "cell_type": "code",
      "metadata": {
        "id": "SmHjyraRN_Xf",
        "colab_type": "code",
        "outputId": "f5a6690f-1d4d-4a57-ae78-7e70784260a7",
        "colab": {
          "base_uri": "https://localhost:8080/",
          "height": 34
        }
      },
      "source": [
        "cd My Drive"
      ],
      "execution_count": 0,
      "outputs": [
        {
          "output_type": "stream",
          "text": [
            "/content/drive/My Drive\n"
          ],
          "name": "stdout"
        }
      ]
    },
    {
      "cell_type": "code",
      "metadata": {
        "id": "y_VVpj56uzRV",
        "colab_type": "code",
        "outputId": "482fc5b9-27ce-4f2f-c053-ca388f5a9c12",
        "colab": {
          "base_uri": "https://localhost:8080/",
          "height": 54
        }
      },
      "source": [
        "from google.colab import drive\n",
        "drive.mount('/content/drive')"
      ],
      "execution_count": 0,
      "outputs": [
        {
          "output_type": "stream",
          "text": [
            "Drive already mounted at /content/drive; to attempt to forcibly remount, call drive.mount(\"/content/drive\", force_remount=True).\n"
          ],
          "name": "stdout"
        }
      ]
    },
    {
      "cell_type": "markdown",
      "metadata": {
        "id": "xhKdwJeX2Qhd",
        "colab_type": "text"
      },
      "source": [
        "# IMPORTANTE !!!!\n",
        "## Hacer un copia de la carpeta CIS en su google drive\n"
      ]
    },
    {
      "cell_type": "code",
      "metadata": {
        "id": "0JYqth2Ty8-k",
        "colab_type": "code",
        "outputId": "0131d8cb-0fad-4b12-dee1-6649588cad74",
        "colab": {
          "base_uri": "https://localhost:8080/",
          "height": 51
        }
      },
      "source": [
        "data1 = pd.read_csv('/content/drive/My Drive/CIS/DATASET/Salary_Data.csv',delimiter=',')\n",
        "X = data1.iloc[:,:-1]\n",
        "Y = data1.iloc[:,1]\n",
        "Y = Y[:, np.newaxis]\n",
        "\n",
        "print(\"X <Años de experiencia> = dimensiones -> \" + str(X.shape))\n",
        "print(\"Y       <Salario>       = dimensiones -> \" + str(Y.shape))"
      ],
      "execution_count": 0,
      "outputs": [
        {
          "output_type": "stream",
          "text": [
            "X <Años de experiencia> = dimensiones -> (30, 1)\n",
            "Y       <Salario>       = dimensiones -> (30, 1)\n"
          ],
          "name": "stdout"
        }
      ]
    },
    {
      "cell_type": "code",
      "metadata": {
        "id": "xZq1KN4y3NGh",
        "colab_type": "code",
        "colab": {}
      },
      "source": [
        "from sklearn.model_selection import train_test_split\n",
        "X_train, X_test, Y_train, Y_test = train_test_split(X,Y,test_size=1/3, random_state=0)\n",
        "\n",
        "# Escalado de variables\n",
        "# en este ejemplo no es necesario lo dejaremos comentariado\n",
        "# from sklearn.preprocessing import StandardScaler\n",
        "# sc_x = StandardScaler()\n",
        "# x_train = sc_x.fit.transform(x_train)\n",
        "# x_test = sc_x.fit.transform(x_test)"
      ],
      "execution_count": 0,
      "outputs": []
    },
    {
      "cell_type": "code",
      "metadata": {
        "id": "hG1WOgWkCQNY",
        "colab_type": "code",
        "outputId": "664a6e65-0b55-44f4-9228-55579c0a546c",
        "colab": {
          "base_uri": "https://localhost:8080/",
          "height": 295
        }
      },
      "source": [
        "plt.scatter(X,Y,color='blue', marker='^',alpha=0.5)\n",
        "plt.title(\"Gráfica 1\")\n",
        "plt.xlabel(\"Años de experiencia\")\n",
        "plt.ylabel(\"Salario\")\n",
        "plt.show()"
      ],
      "execution_count": 0,
      "outputs": [
        {
          "output_type": "display_data",
          "data": {
            "image/png": "[encoded data removed]",
            "text/plain": [
              "<Figure size 432x288 with 1 Axes>"
            ]
          },
          "metadata": {
            "tags": [],
            "needs_background": "light"
          }
        }
      ]
    },
    {
      "cell_type": "code",
      "metadata": {
        "id": "DDEvpDUZDAzf",
        "colab_type": "code",
        "outputId": "a2de8c75-3948-41f0-ba39-085cbc534407",
        "colab": {
          "base_uri": "https://localhost:8080/",
          "height": 268
        }
      },
      "source": [
        "f, [ax1, ax2] = plt.subplots(2, 1, sharey=True) \n",
        "ax1.scatter(X_train,Y_train,color='blue', marker='^',alpha=0.5)\n",
        "ax2.scatter(X_test, Y_test ,color='blue', marker='^',alpha=0.5)\n",
        "plt.show()"
      ],
      "execution_count": 0,
      "outputs": [
        {
          "output_type": "display_data",
          "data": {
            "image/png": "[encoded data removed]",
            "text/plain": [
              "<Figure size 432x288 with 2 Axes>"
            ]
          },
          "metadata": {
            "tags": [],
            "needs_background": "light"
          }
        }
      ]
    },
    {
      "cell_type": "markdown",
      "metadata": {
        "id": "vBnbyngq2LfA",
        "colab_type": "text"
      },
      "source": [
        "### Modelo de regresión lineal simple. \n",
        "### método minimos cuadrados"
      ]
    },
    {
      "cell_type": "code",
      "metadata": {
        "id": "ILktg1Ld8Yuk",
        "colab_type": "code",
        "outputId": "0c8208a7-6e5f-4166-c521-cdd95e1ae948",
        "colab": {
          "base_uri": "https://localhost:8080/",
          "height": 34
        }
      },
      "source": [
        "from sklearn.linear_model import LinearRegression\n",
        "regresion = LinearRegression()\n",
        "regresion.fit(X_train,Y_train)"
      ],
      "execution_count": 0,
      "outputs": [
        {
          "output_type": "execute_result",
          "data": {
            "text/plain": [
              "LinearRegression(copy_X=True, fit_intercept=True, n_jobs=None, normalize=False)"
            ]
          },
          "metadata": {
            "tags": []
          },
          "execution_count": 17
        }
      ]
    },
    {
      "cell_type": "markdown",
      "metadata": {
        "id": "q9QzSNcaV7yW",
        "colab_type": "text"
      },
      "source": [
        "### Predecir el conjunto de test"
      ]
    },
    {
      "cell_type": "code",
      "metadata": {
        "id": "HrQmWN6tWAKU",
        "colab_type": "code",
        "outputId": "5ca433bf-7f19-4899-c271-13257c45cef3",
        "colab": {
          "base_uri": "https://localhost:8080/",
          "height": 187
        }
      },
      "source": [
        "Y_pred= regresion.predict(X_test)\n",
        "Y_pred"
      ],
      "execution_count": 0,
      "outputs": [
        {
          "output_type": "execute_result",
          "data": {
            "text/plain": [
              "array([[ 40835.10590871],\n",
              "       [123079.39940819],\n",
              "       [ 65134.55626083],\n",
              "       [ 63265.36777221],\n",
              "       [115602.64545369],\n",
              "       [108125.8914992 ],\n",
              "       [116537.23969801],\n",
              "       [ 64199.96201652],\n",
              "       [ 76349.68719258],\n",
              "       [100649.1375447 ]])"
            ]
          },
          "metadata": {
            "tags": []
          },
          "execution_count": 18
        }
      ]
    },
    {
      "cell_type": "markdown",
      "metadata": {
        "id": "P14kIhEnZwG9",
        "colab_type": "text"
      },
      "source": [
        "### Visualizar los resulados del entenamiento"
      ]
    },
    {
      "cell_type": "code",
      "metadata": {
        "id": "TA306Es2plty",
        "colab_type": "code",
        "outputId": "8b15e2c7-1dda-4f5a-d70c-aaf3431b8415",
        "colab": {
          "base_uri": "https://localhost:8080/",
          "height": 295
        }
      },
      "source": [
        "plt.scatter(X_train, Y_train, color=\"red\", marker='^', alpha=0.5)\n",
        "plt.plot(X_train, regresion.predict(X_train), color=\"blue\")\n",
        "plt.title(\"Sueldo vs años de experiencia - Conjunto de entrenamiento\")\n",
        "plt.xlabel (\"Años de experiencia\")\n",
        "plt.ylabel (\"Sueldo $\")\n",
        "plt.show()"
      ],
      "execution_count": 0,
      "outputs": [
        {
          "output_type": "display_data",
          "data": {
            "image/png": "[encoded data removed]",
            "text/plain": [
              "<Figure size 432x288 with 1 Axes>"
            ]
          },
          "metadata": {
            "tags": [],
            "needs_background": "light"
          }
        }
      ]
    },
    {
      "cell_type": "code",
      "metadata": {
        "id": "ZM4tR4LCt8R7",
        "colab_type": "code",
        "outputId": "96ce5fd2-c0d1-46ec-eb11-c0f74a0d7d38",
        "colab": {
          "base_uri": "https://localhost:8080/",
          "height": 295
        }
      },
      "source": [
        "plt.scatter(X_test,Y_test,color=\"Green\")\n",
        "plt.scatter(X_test, regresion.predict(X_test),color=\"blue\")\n",
        "plt.title(\"Sueldo vs años de experiencia - Conjunto de entrenamiento\")\n",
        "plt.xlabel (\"Años de experiencia\")\n",
        "plt.ylabel (\"Sueldo $\")\n",
        "plt.show()"
      ],
      "execution_count": 0,
      "outputs": [
        {
          "output_type": "display_data",
          "data": {
            "image/png": "[encoded data removed]",
            "text/plain": [
              "<Figure size 432x288 with 1 Axes>"
            ]
          },
          "metadata": {
            "tags": [],
            "needs_background": "light"
          }
        }
      ]
    },
    {
      "cell_type": "markdown",
      "metadata": {
        "id": "zXlMvzpxGDpt",
        "colab_type": "text"
      },
      "source": [
        "# Tarea\n",
        "## Regresion polinomica\n",
        "### Investigar regresion polinomica con sklearn y hacer un ejemplo donde se aplique una regresion lineal y polinomica que se ajuste a la tenddencia de la nube de puntos y compare con error la diferencia entre el modelo linea y polinomico."
      ]
    }
  ]
}